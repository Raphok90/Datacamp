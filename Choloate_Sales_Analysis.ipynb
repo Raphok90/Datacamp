{
  "nbformat": 4,
  "nbformat_minor": 0,
  "metadata": {
    "colab": {
      "provenance": [],
      "toc_visible": true,
      "authorship_tag": "ABX9TyMPF57VqfeLR5yoo/+JS5Dp",
      "include_colab_link": true
    },
    "kernelspec": {
      "name": "python3",
      "display_name": "Python 3"
    },
    "language_info": {
      "name": "python"
    }
  },
  "cells": [
    {
      "cell_type": "markdown",
      "metadata": {
        "id": "view-in-github",
        "colab_type": "text"
      },
      "source": [
        "<a href=\"https://colab.research.google.com/github/Raphok90/Datacamp/blob/main/Choloate_Sales_Analysis.ipynb\" target=\"_parent\"><img src=\"https://colab.research.google.com/assets/colab-badge.svg\" alt=\"Open In Colab\"/></a>"
      ]
    },
    {
      "cell_type": "code",
      "execution_count": null,
      "metadata": {
        "id": "CvEmpQA4dMuh"
      },
      "outputs": [],
      "source": []
    },
    {
      "cell_type": "code",
      "source": [],
      "metadata": {
        "id": "I419Kz_zA3og"
      },
      "execution_count": null,
      "outputs": []
    },
    {
      "cell_type": "code",
      "source": [
        "import kagglehub\n",
        "\n",
        "# Download latest version\n",
        "path = kagglehub.dataset_download(\"atharvasoundankar/chocolate-sales\")\n",
        "\n",
        "print(\"Path to dataset files:\", path)"
      ],
      "metadata": {
        "colab": {
          "base_uri": "https://localhost:8080/"
        },
        "id": "P4euVK4IDPhH",
        "outputId": "daca97fb-b0ba-48ef-ed3d-86b7d1661fbb"
      },
      "execution_count": 8,
      "outputs": [
        {
          "output_type": "stream",
          "name": "stdout",
          "text": [
            "Path to dataset files: /kaggle/input/chocolate-sales\n"
          ]
        }
      ]
    },
    {
      "cell_type": "code",
      "source": [],
      "metadata": {
        "id": "tn8tFzUb0gOr"
      },
      "execution_count": null,
      "outputs": []
    },
    {
      "cell_type": "code",
      "source": [
        "import pandas as pd\n",
        "import numpy as np\n"
      ],
      "metadata": {
        "id": "BJxd1zwVElGF"
      },
      "execution_count": 9,
      "outputs": []
    },
    {
      "cell_type": "code",
      "source": [
        "from google.colab import files\n",
        "\n",
        "uploaded = files.upload()\n"
      ],
      "metadata": {
        "colab": {
          "base_uri": "https://localhost:8080/",
          "height": 73
        },
        "id": "KX2t9Pgp-VMS",
        "outputId": "7ea106c2-44ae-43ee-dcda-856ebb68b39f"
      },
      "execution_count": 10,
      "outputs": [
        {
          "output_type": "display_data",
          "data": {
            "text/plain": [
              "<IPython.core.display.HTML object>"
            ],
            "text/html": [
              "\n",
              "     <input type=\"file\" id=\"files-d8027e25-8e8b-42bc-9bba-6f3042264ef4\" name=\"files[]\" multiple disabled\n",
              "        style=\"border:none\" />\n",
              "     <output id=\"result-d8027e25-8e8b-42bc-9bba-6f3042264ef4\">\n",
              "      Upload widget is only available when the cell has been executed in the\n",
              "      current browser session. Please rerun this cell to enable.\n",
              "      </output>\n",
              "      <script>// Copyright 2017 Google LLC\n",
              "//\n",
              "// Licensed under the Apache License, Version 2.0 (the \"License\");\n",
              "// you may not use this file except in compliance with the License.\n",
              "// You may obtain a copy of the License at\n",
              "//\n",
              "//      http://www.apache.org/licenses/LICENSE-2.0\n",
              "//\n",
              "// Unless required by applicable law or agreed to in writing, software\n",
              "// distributed under the License is distributed on an \"AS IS\" BASIS,\n",
              "// WITHOUT WARRANTIES OR CONDITIONS OF ANY KIND, either express or implied.\n",
              "// See the License for the specific language governing permissions and\n",
              "// limitations under the License.\n",
              "\n",
              "/**\n",
              " * @fileoverview Helpers for google.colab Python module.\n",
              " */\n",
              "(function(scope) {\n",
              "function span(text, styleAttributes = {}) {\n",
              "  const element = document.createElement('span');\n",
              "  element.textContent = text;\n",
              "  for (const key of Object.keys(styleAttributes)) {\n",
              "    element.style[key] = styleAttributes[key];\n",
              "  }\n",
              "  return element;\n",
              "}\n",
              "\n",
              "// Max number of bytes which will be uploaded at a time.\n",
              "const MAX_PAYLOAD_SIZE = 100 * 1024;\n",
              "\n",
              "function _uploadFiles(inputId, outputId) {\n",
              "  const steps = uploadFilesStep(inputId, outputId);\n",
              "  const outputElement = document.getElementById(outputId);\n",
              "  // Cache steps on the outputElement to make it available for the next call\n",
              "  // to uploadFilesContinue from Python.\n",
              "  outputElement.steps = steps;\n",
              "\n",
              "  return _uploadFilesContinue(outputId);\n",
              "}\n",
              "\n",
              "// This is roughly an async generator (not supported in the browser yet),\n",
              "// where there are multiple asynchronous steps and the Python side is going\n",
              "// to poll for completion of each step.\n",
              "// This uses a Promise to block the python side on completion of each step,\n",
              "// then passes the result of the previous step as the input to the next step.\n",
              "function _uploadFilesContinue(outputId) {\n",
              "  const outputElement = document.getElementById(outputId);\n",
              "  const steps = outputElement.steps;\n",
              "\n",
              "  const next = steps.next(outputElement.lastPromiseValue);\n",
              "  return Promise.resolve(next.value.promise).then((value) => {\n",
              "    // Cache the last promise value to make it available to the next\n",
              "    // step of the generator.\n",
              "    outputElement.lastPromiseValue = value;\n",
              "    return next.value.response;\n",
              "  });\n",
              "}\n",
              "\n",
              "/**\n",
              " * Generator function which is called between each async step of the upload\n",
              " * process.\n",
              " * @param {string} inputId Element ID of the input file picker element.\n",
              " * @param {string} outputId Element ID of the output display.\n",
              " * @return {!Iterable<!Object>} Iterable of next steps.\n",
              " */\n",
              "function* uploadFilesStep(inputId, outputId) {\n",
              "  const inputElement = document.getElementById(inputId);\n",
              "  inputElement.disabled = false;\n",
              "\n",
              "  const outputElement = document.getElementById(outputId);\n",
              "  outputElement.innerHTML = '';\n",
              "\n",
              "  const pickedPromise = new Promise((resolve) => {\n",
              "    inputElement.addEventListener('change', (e) => {\n",
              "      resolve(e.target.files);\n",
              "    });\n",
              "  });\n",
              "\n",
              "  const cancel = document.createElement('button');\n",
              "  inputElement.parentElement.appendChild(cancel);\n",
              "  cancel.textContent = 'Cancel upload';\n",
              "  const cancelPromise = new Promise((resolve) => {\n",
              "    cancel.onclick = () => {\n",
              "      resolve(null);\n",
              "    };\n",
              "  });\n",
              "\n",
              "  // Wait for the user to pick the files.\n",
              "  const files = yield {\n",
              "    promise: Promise.race([pickedPromise, cancelPromise]),\n",
              "    response: {\n",
              "      action: 'starting',\n",
              "    }\n",
              "  };\n",
              "\n",
              "  cancel.remove();\n",
              "\n",
              "  // Disable the input element since further picks are not allowed.\n",
              "  inputElement.disabled = true;\n",
              "\n",
              "  if (!files) {\n",
              "    return {\n",
              "      response: {\n",
              "        action: 'complete',\n",
              "      }\n",
              "    };\n",
              "  }\n",
              "\n",
              "  for (const file of files) {\n",
              "    const li = document.createElement('li');\n",
              "    li.append(span(file.name, {fontWeight: 'bold'}));\n",
              "    li.append(span(\n",
              "        `(${file.type || 'n/a'}) - ${file.size} bytes, ` +\n",
              "        `last modified: ${\n",
              "            file.lastModifiedDate ? file.lastModifiedDate.toLocaleDateString() :\n",
              "                                    'n/a'} - `));\n",
              "    const percent = span('0% done');\n",
              "    li.appendChild(percent);\n",
              "\n",
              "    outputElement.appendChild(li);\n",
              "\n",
              "    const fileDataPromise = new Promise((resolve) => {\n",
              "      const reader = new FileReader();\n",
              "      reader.onload = (e) => {\n",
              "        resolve(e.target.result);\n",
              "      };\n",
              "      reader.readAsArrayBuffer(file);\n",
              "    });\n",
              "    // Wait for the data to be ready.\n",
              "    let fileData = yield {\n",
              "      promise: fileDataPromise,\n",
              "      response: {\n",
              "        action: 'continue',\n",
              "      }\n",
              "    };\n",
              "\n",
              "    // Use a chunked sending to avoid message size limits. See b/62115660.\n",
              "    let position = 0;\n",
              "    do {\n",
              "      const length = Math.min(fileData.byteLength - position, MAX_PAYLOAD_SIZE);\n",
              "      const chunk = new Uint8Array(fileData, position, length);\n",
              "      position += length;\n",
              "\n",
              "      const base64 = btoa(String.fromCharCode.apply(null, chunk));\n",
              "      yield {\n",
              "        response: {\n",
              "          action: 'append',\n",
              "          file: file.name,\n",
              "          data: base64,\n",
              "        },\n",
              "      };\n",
              "\n",
              "      let percentDone = fileData.byteLength === 0 ?\n",
              "          100 :\n",
              "          Math.round((position / fileData.byteLength) * 100);\n",
              "      percent.textContent = `${percentDone}% done`;\n",
              "\n",
              "    } while (position < fileData.byteLength);\n",
              "  }\n",
              "\n",
              "  // All done.\n",
              "  yield {\n",
              "    response: {\n",
              "      action: 'complete',\n",
              "    }\n",
              "  };\n",
              "}\n",
              "\n",
              "scope.google = scope.google || {};\n",
              "scope.google.colab = scope.google.colab || {};\n",
              "scope.google.colab._files = {\n",
              "  _uploadFiles,\n",
              "  _uploadFilesContinue,\n",
              "};\n",
              "})(self);\n",
              "</script> "
            ]
          },
          "metadata": {}
        },
        {
          "output_type": "stream",
          "name": "stdout",
          "text": [
            "Saving Chocolate Sales.csv to Chocolate Sales.csv\n"
          ]
        }
      ]
    },
    {
      "cell_type": "code",
      "source": [
        "df = pd.read_csv('Chocolate Sales.csv')"
      ],
      "metadata": {
        "id": "f7xzj_yzDKhh"
      },
      "execution_count": 12,
      "outputs": []
    },
    {
      "cell_type": "code",
      "source": [
        "print(df.head())"
      ],
      "metadata": {
        "colab": {
          "base_uri": "https://localhost:8080/"
        },
        "id": "mlr8zSX1DXQU",
        "outputId": "e627dd42-0388-4fbc-f40c-1c97b88210ed"
      },
      "execution_count": 13,
      "outputs": [
        {
          "output_type": "stream",
          "name": "stdout",
          "text": [
            "     Sales Person    Country              Product       Date    Amount  \\\n",
            "0  Jehu Rudeforth         UK      Mint Chip Choco   4-Jan-22   $5,320    \n",
            "1     Van Tuxwell      India        85% Dark Bars   1-Aug-22   $7,896    \n",
            "2    Gigi Bohling      India  Peanut Butter Cubes   7-Jul-22   $4,501    \n",
            "3    Jan Morforth  Australia  Peanut Butter Cubes  27-Apr-22  $12,726    \n",
            "4  Jehu Rudeforth         UK  Peanut Butter Cubes  24-Feb-22  $13,685    \n",
            "\n",
            "   Boxes Shipped  \n",
            "0            180  \n",
            "1             94  \n",
            "2             91  \n",
            "3            342  \n",
            "4            184  \n"
          ]
        }
      ]
    },
    {
      "cell_type": "code",
      "source": [
        "df.info()"
      ],
      "metadata": {
        "colab": {
          "base_uri": "https://localhost:8080/"
        },
        "id": "jo0ebF7RFmtH",
        "outputId": "365af0e6-655d-4261-a8ae-919776141799"
      },
      "execution_count": 14,
      "outputs": [
        {
          "output_type": "stream",
          "name": "stdout",
          "text": [
            "<class 'pandas.core.frame.DataFrame'>\n",
            "RangeIndex: 1094 entries, 0 to 1093\n",
            "Data columns (total 6 columns):\n",
            " #   Column         Non-Null Count  Dtype \n",
            "---  ------         --------------  ----- \n",
            " 0   Sales Person   1094 non-null   object\n",
            " 1   Country        1094 non-null   object\n",
            " 2   Product        1094 non-null   object\n",
            " 3   Date           1094 non-null   object\n",
            " 4   Amount         1094 non-null   object\n",
            " 5   Boxes Shipped  1094 non-null   int64 \n",
            "dtypes: int64(1), object(5)\n",
            "memory usage: 51.4+ KB\n"
          ]
        }
      ]
    },
    {
      "cell_type": "markdown",
      "source": [],
      "metadata": {
        "id": "d8o5QlEhdHut"
      }
    },
    {
      "cell_type": "code",
      "source": [
        "import pandas as pd\n",
        "\n",
        "df = pd.read_csv(\"Chocolate Sales.csv\")\n",
        "\n",
        "print(df.head())\n",
        "df.info()\n"
      ],
      "metadata": {
        "colab": {
          "base_uri": "https://localhost:8080/"
        },
        "id": "urE1JQ01Ja0r",
        "outputId": "b2691492-ec90-4565-fc5b-daab78a5a569"
      },
      "execution_count": 16,
      "outputs": [
        {
          "output_type": "stream",
          "name": "stdout",
          "text": [
            "     Sales Person    Country              Product       Date    Amount  \\\n",
            "0  Jehu Rudeforth         UK      Mint Chip Choco   4-Jan-22   $5,320    \n",
            "1     Van Tuxwell      India        85% Dark Bars   1-Aug-22   $7,896    \n",
            "2    Gigi Bohling      India  Peanut Butter Cubes   7-Jul-22   $4,501    \n",
            "3    Jan Morforth  Australia  Peanut Butter Cubes  27-Apr-22  $12,726    \n",
            "4  Jehu Rudeforth         UK  Peanut Butter Cubes  24-Feb-22  $13,685    \n",
            "\n",
            "   Boxes Shipped  \n",
            "0            180  \n",
            "1             94  \n",
            "2             91  \n",
            "3            342  \n",
            "4            184  \n",
            "<class 'pandas.core.frame.DataFrame'>\n",
            "RangeIndex: 1094 entries, 0 to 1093\n",
            "Data columns (total 6 columns):\n",
            " #   Column         Non-Null Count  Dtype \n",
            "---  ------         --------------  ----- \n",
            " 0   Sales Person   1094 non-null   object\n",
            " 1   Country        1094 non-null   object\n",
            " 2   Product        1094 non-null   object\n",
            " 3   Date           1094 non-null   object\n",
            " 4   Amount         1094 non-null   object\n",
            " 5   Boxes Shipped  1094 non-null   int64 \n",
            "dtypes: int64(1), object(5)\n",
            "memory usage: 51.4+ KB\n"
          ]
        }
      ]
    },
    {
      "cell_type": "code",
      "source": [
        "# Remove $ and commas, convert to float\n",
        "df['Amount'] = df['Amount'].replace('[\\$,]', '', regex=True).astype(float)\n",
        "\n",
        "# Convert Date to datetime\n",
        "df['Date'] = pd.to_datetime(df['Date'], format='%d-%b-%y')\n"
      ],
      "metadata": {
        "id": "OSuZSFcYJs8d"
      },
      "execution_count": 17,
      "outputs": []
    },
    {
      "cell_type": "code",
      "source": [
        "total_sales = df['Amount'].sum()\n",
        "print(f\"Total Sales: ${total_sales:,.2f}\")\n"
      ],
      "metadata": {
        "colab": {
          "base_uri": "https://localhost:8080/"
        },
        "id": "Eh1UsjIEJze-",
        "outputId": "492dbeba-11af-4b78-99a5-69562275f315"
      },
      "execution_count": 18,
      "outputs": [
        {
          "output_type": "stream",
          "name": "stdout",
          "text": [
            "Total Sales: $6,183,625.00\n"
          ]
        }
      ]
    },
    {
      "cell_type": "code",
      "source": [
        "top_sales_person = df.groupby('Sales Person')['Amount'].sum().sort_values(ascending=False)\n",
        "print(top_sales_person)\n"
      ],
      "metadata": {
        "colab": {
          "base_uri": "https://localhost:8080/"
        },
        "id": "o2KVaO7WJ1oE",
        "outputId": "82cabae6-9494-4194-9db8-ebd075fca0b1"
      },
      "execution_count": 19,
      "outputs": [
        {
          "output_type": "stream",
          "name": "stdout",
          "text": [
            "Sales Person\n",
            "Ches Bonnell           320901.0\n",
            "Oby Sorrel             316645.0\n",
            "Madelene Upcott        316099.0\n",
            "Brien Boise            312816.0\n",
            "Kelci Walkden          311710.0\n",
            "Van Tuxwell            303149.0\n",
            "Dennison Crosswaite    291669.0\n",
            "Beverie Moffet         278922.0\n",
            "Kaine Padly            266490.0\n",
            "Marney O'Breen         259742.0\n",
            "Barr Faughny           258713.0\n",
            "Roddy Speechley        251062.0\n",
            "Gunar Cockshoot        238483.0\n",
            "Gigi Bohling           232666.0\n",
            "Karlen McCaffrey       223895.0\n",
            "Jehu Rudeforth         220976.0\n",
            "Jan Morforth           219667.0\n",
            "Curtice Advani         216461.0\n",
            "Rafaelita Blaksland    210245.0\n",
            "Husein Augar           205212.0\n",
            "Andria Kimpton         201747.0\n",
            "Mallorie Waber         200592.0\n",
            "Camilla Castle         196616.0\n",
            "Dotty Strutley         190624.0\n",
            "Wilone O'Kielt         138523.0\n",
            "Name: Amount, dtype: float64\n"
          ]
        }
      ]
    },
    {
      "cell_type": "code",
      "source": [
        "top_product = df.groupby('Product')['Amount'].sum().sort_values(ascending=False)\n",
        "print(top_product)\n"
      ],
      "metadata": {
        "colab": {
          "base_uri": "https://localhost:8080/"
        },
        "id": "YnNA_owNKCkD",
        "outputId": "db82a7ec-f057-4f14-f206-cea74ccd173b"
      },
      "execution_count": 20,
      "outputs": [
        {
          "output_type": "stream",
          "name": "stdout",
          "text": [
            "Product\n",
            "Smooth Sliky Salty      349692.0\n",
            "50% Dark Bites          341712.0\n",
            "White Choc              329147.0\n",
            "Peanut Butter Cubes     324842.0\n",
            "Eclairs                 312445.0\n",
            "99% Dark & Pure         299796.0\n",
            "85% Dark Bars           299229.0\n",
            "Organic Choco Syrup     294700.0\n",
            "Spicy Special Slims     293454.0\n",
            "Mint Chip Choco         283969.0\n",
            "Almond Choco            277536.0\n",
            "Manuka Honey Choco      275541.0\n",
            "Milk Bars               269248.0\n",
            "Raspberry Choco         264740.0\n",
            "After Nines             261331.0\n",
            "Fruit & Nut Bars        259147.0\n",
            "Drinking Coco           256655.0\n",
            "Orange Choco            256144.0\n",
            "Baker's Choco Chips     249613.0\n",
            "Choco Coated Almonds    241486.0\n",
            "Caramel Stuffed Bars    231588.0\n",
            "70% Dark Bites          211610.0\n",
            "Name: Amount, dtype: float64\n"
          ]
        }
      ]
    },
    {
      "cell_type": "code",
      "source": [
        "sales_by_country = df.groupby('Country')['Amount'].sum().sort_values(ascending=False)\n",
        "print(sales_by_country)\n"
      ],
      "metadata": {
        "colab": {
          "base_uri": "https://localhost:8080/"
        },
        "id": "XZ0MCgp1KL09",
        "outputId": "13b95c29-c110-4acc-f3df-14872bcc640f"
      },
      "execution_count": 21,
      "outputs": [
        {
          "output_type": "stream",
          "name": "stdout",
          "text": [
            "Country\n",
            "Australia      1137367.0\n",
            "UK             1051792.0\n",
            "India          1045800.0\n",
            "USA            1035349.0\n",
            "Canada          962899.0\n",
            "New Zealand     950418.0\n",
            "Name: Amount, dtype: float64\n"
          ]
        }
      ]
    },
    {
      "cell_type": "code",
      "source": [
        "sales_by_country = df.groupby('Country')['Amount'].sum()\n",
        "print(sales_by_country)"
      ],
      "metadata": {
        "colab": {
          "base_uri": "https://localhost:8080/"
        },
        "id": "MZA2LBSWKcHu",
        "outputId": "ee8cdafc-1d7d-47b6-840c-e627a2be1a06"
      },
      "execution_count": 23,
      "outputs": [
        {
          "output_type": "stream",
          "name": "stdout",
          "text": [
            "Country\n",
            "Australia      1137367.0\n",
            "Canada          962899.0\n",
            "India          1045800.0\n",
            "New Zealand     950418.0\n",
            "UK             1051792.0\n",
            "USA            1035349.0\n",
            "Name: Amount, dtype: float64\n"
          ]
        }
      ]
    },
    {
      "cell_type": "code",
      "source": [
        "df['Month'] = df['Date'].dt.to_period('M')\n",
        "\n",
        "monthly_sales = df.groupby('Month')['Amount'].sum()\n",
        "\n",
        "monthly_sales.plot(kind='line', title='Monthly Sales Trend', figsize=(10, 5))\n"
      ],
      "metadata": {
        "colab": {
          "base_uri": "https://localhost:8080/",
          "height": 513
        },
        "id": "yQNAVdoLKsCy",
        "outputId": "d3feb55f-923c-4150-fab7-241823a24c95"
      },
      "execution_count": 24,
      "outputs": [
        {
          "output_type": "execute_result",
          "data": {
            "text/plain": [
              "<Axes: title={'center': 'Monthly Sales Trend'}, xlabel='Month'>"
            ]
          },
          "metadata": {},
          "execution_count": 24
        },
        {
          "output_type": "display_data",
          "data": {
            "text/plain": [
              "<Figure size 1000x500 with 1 Axes>"
            ],
            "image/png": "[encoded data removed]"
          },
          "metadata": {}
        }
      ]
    },
    {
      "cell_type": "code",
      "source": [
        "best_month = monthly_sales.idxmax()\n",
        "best_month_value = monthly_sales.max()\n",
        "print(f\"Best Month: {best_month}, Sales: ${best_month_value:,.2f}\")\n"
      ],
      "metadata": {
        "colab": {
          "base_uri": "https://localhost:8080/"
        },
        "id": "ZoSks5UgLRJ1",
        "outputId": "aeb95b2d-758b-4699-d813-0a4085f50160"
      },
      "execution_count": 25,
      "outputs": [
        {
          "output_type": "stream",
          "name": "stdout",
          "text": [
            "Best Month: 2022-01, Sales: $896,105.00\n"
          ]
        }
      ]
    },
    {
      "cell_type": "code",
      "source": [
        "top_5_sales = df.sort_values(by='Amount', ascending=False).head()\n",
        "print(top_5_sales)\n"
      ],
      "metadata": {
        "colab": {
          "base_uri": "https://localhost:8080/"
        },
        "id": "VP6EJ4YeLe6q",
        "outputId": "3d2fb87e-514a-4f21-9041-ceefd3814c6d"
      },
      "execution_count": 26,
      "outputs": [
        {
          "output_type": "stream",
          "name": "stdout",
          "text": [
            "            Sales Person      Country              Product       Date  \\\n",
            "543         Ches Bonnell        India  Peanut Butter Cubes 2022-01-27   \n",
            "135          Van Tuxwell        India  Organic Choco Syrup 2022-05-16   \n",
            "751  Rafaelita Blaksland  New Zealand              Eclairs 2022-02-07   \n",
            "66           Van Tuxwell    Australia  Organic Choco Syrup 2022-08-10   \n",
            "589       Curtice Advani        India   Smooth Sliky Salty 2022-04-19   \n",
            "\n",
            "      Amount  Boxes Shipped    Month  \n",
            "543  22050.0            208  2022-01  \n",
            "135  19929.0            174  2022-05  \n",
            "751  19481.0             51  2022-02  \n",
            "66   19453.0             14  2022-08  \n",
            "589  19327.0            135  2022-04  \n"
          ]
        }
      ]
    },
    {
      "cell_type": "code",
      "source": [
        "import matplotlib.pyplot as plt\n",
        "\n",
        "df.groupby('Product')['Amount'].sum().sort_values().plot(kind='barh', title='Sales by Product', figsize=(8,5))\n",
        "plt.xlabel(\"Amount ($)\")\n",
        "plt.show()\n"
      ],
      "metadata": {
        "colab": {
          "base_uri": "https://localhost:8080/",
          "height": 487
        },
        "id": "x2Dddbn3LoKF",
        "outputId": "0d092584-8f6b-4102-c8fa-3444a1060e01"
      },
      "execution_count": 27,
      "outputs": [
        {
          "output_type": "display_data",
          "data": {
            "text/plain": [
              "<Figure size 800x500 with 1 Axes>"
            ],
            "image/png": "[encoded data removed]"
          },
          "metadata": {}
        }
      ]
    },
    {
      "cell_type": "markdown",
      "source": [],
      "metadata": {
        "id": "aLQEe5z1MDqr"
      }
    },
    {
      "cell_type": "code",
      "source": [],
      "metadata": {
        "id": "DTekvseVMEPt"
      },
      "execution_count": null,
      "outputs": []
    }
  ]
}